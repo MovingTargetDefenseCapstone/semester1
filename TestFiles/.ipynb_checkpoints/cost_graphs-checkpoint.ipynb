{
 "cells": [
  {
   "cell_type": "code",
   "execution_count": 39,
   "metadata": {},
   "outputs": [],
   "source": [
    "import pandas as pd\n",
    "import numpy as np\n",
    "import matplotlib.pyplot as plt\n"
   ]
  },
  {
   "cell_type": "code",
   "execution_count": 40,
   "metadata": {},
   "outputs": [],
   "source": [
    "#read data from file\n",
    "MSG_data = pd.read_csv('MSG.txt', sep=\"\\n\", header=None)\n",
    "URS_data = pd.read_csv('URG_costs.txt', sep=\"\\n\", header=None)\n",
    "BSG_data = pd.read_csv('BSG_costs.txt', sep=\"\\n\", header=None)\n",
    "\n",
    "# name columns\n",
    "MSG_data.columns = [\"MSG\"]\n",
    "URS_data.columns = [\"URS\"]\n",
    "BSG_data.columns = [\"BSG\"]\n",
    "\n",
    "# generate alpha variable\n",
    "alpha = []\n",
    "for i in range(0, MSG_data.size):\n",
    "    alpha.append(i * 10)\n",
    "\n",
    "\n",
    "result = pd.concat([MSG_data, URS_data, BSG_data], axis=1, join='inner')\n",
    "result['alpha'] = pd.DataFrame(alpha)"
   ]
  },
  {
   "cell_type": "code",
   "execution_count": 41,
   "metadata": {},
   "outputs": [
    {
     "data": {
      "text/html": [
       "<div>\n",
       "<style scoped>\n",
       "    .dataframe tbody tr th:only-of-type {\n",
       "        vertical-align: middle;\n",
       "    }\n",
       "\n",
       "    .dataframe tbody tr th {\n",
       "        vertical-align: top;\n",
       "    }\n",
       "\n",
       "    .dataframe thead th {\n",
       "        text-align: right;\n",
       "    }\n",
       "</style>\n",
       "<table border=\"1\" class=\"dataframe\">\n",
       "  <thead>\n",
       "    <tr style=\"text-align: right;\">\n",
       "      <th></th>\n",
       "      <th>MSG</th>\n",
       "      <th>URS</th>\n",
       "      <th>BSG</th>\n",
       "      <th>alpha</th>\n",
       "    </tr>\n",
       "  </thead>\n",
       "  <tbody>\n",
       "    <tr>\n",
       "      <th>0</th>\n",
       "      <td>0.375667</td>\n",
       "      <td>0.584356</td>\n",
       "      <td>0.485041</td>\n",
       "      <td>0</td>\n",
       "    </tr>\n",
       "    <tr>\n",
       "      <th>1</th>\n",
       "      <td>0.782184</td>\n",
       "      <td>2.106954</td>\n",
       "      <td>0.784950</td>\n",
       "      <td>10</td>\n",
       "    </tr>\n",
       "    <tr>\n",
       "      <th>2</th>\n",
       "      <td>0.998466</td>\n",
       "      <td>3.033082</td>\n",
       "      <td>0.997950</td>\n",
       "      <td>20</td>\n",
       "    </tr>\n",
       "    <tr>\n",
       "      <th>3</th>\n",
       "      <td>1.202546</td>\n",
       "      <td>3.646536</td>\n",
       "      <td>1.210950</td>\n",
       "      <td>30</td>\n",
       "    </tr>\n",
       "    <tr>\n",
       "      <th>4</th>\n",
       "      <td>1.416686</td>\n",
       "      <td>4.124168</td>\n",
       "      <td>1.423950</td>\n",
       "      <td>40</td>\n",
       "    </tr>\n",
       "    <tr>\n",
       "      <th>5</th>\n",
       "      <td>1.576092</td>\n",
       "      <td>4.540993</td>\n",
       "      <td>1.636950</td>\n",
       "      <td>50</td>\n",
       "    </tr>\n",
       "    <tr>\n",
       "      <th>6</th>\n",
       "      <td>1.715604</td>\n",
       "      <td>4.957818</td>\n",
       "      <td>1.832689</td>\n",
       "      <td>60</td>\n",
       "    </tr>\n",
       "    <tr>\n",
       "      <th>7</th>\n",
       "      <td>1.856609</td>\n",
       "      <td>5.356287</td>\n",
       "      <td>1.939189</td>\n",
       "      <td>70</td>\n",
       "    </tr>\n",
       "    <tr>\n",
       "      <th>8</th>\n",
       "      <td>1.978022</td>\n",
       "      <td>5.703641</td>\n",
       "      <td>2.045410</td>\n",
       "      <td>80</td>\n",
       "    </tr>\n",
       "    <tr>\n",
       "      <th>9</th>\n",
       "      <td>2.087023</td>\n",
       "      <td>6.050995</td>\n",
       "      <td>2.147410</td>\n",
       "      <td>90</td>\n",
       "    </tr>\n",
       "  </tbody>\n",
       "</table>\n",
       "</div>"
      ],
      "text/plain": [
       "        MSG       URS       BSG  alpha\n",
       "0  0.375667  0.584356  0.485041      0\n",
       "1  0.782184  2.106954  0.784950     10\n",
       "2  0.998466  3.033082  0.997950     20\n",
       "3  1.202546  3.646536  1.210950     30\n",
       "4  1.416686  4.124168  1.423950     40\n",
       "5  1.576092  4.540993  1.636950     50\n",
       "6  1.715604  4.957818  1.832689     60\n",
       "7  1.856609  5.356287  1.939189     70\n",
       "8  1.978022  5.703641  2.045410     80\n",
       "9  2.087023  6.050995  2.147410     90"
      ]
     },
     "execution_count": 41,
     "metadata": {},
     "output_type": "execute_result"
    }
   ],
   "source": [
    "result"
   ]
  },
  {
   "cell_type": "code",
   "execution_count": 42,
   "metadata": {},
   "outputs": [
    {
     "data": {
      "text/plain": [
       "Text(0.5, 0, 'alpha')"
      ]
     },
     "execution_count": 42,
     "metadata": {},
     "output_type": "execute_result"
    },
    {
     "data": {
      "image/png": "[encoded data removed]",
      "text/plain": [
       "<Figure size 432x288 with 1 Axes>"
      ]
     },
     "metadata": {
      "needs_background": "light"
     },
     "output_type": "display_data"
    }
   ],
   "source": [
    "plt.plot('alpha', 'BSG', data=result)\n",
    "plt.plot('alpha', 'MSG', data=result)\n",
    "plt.plot('alpha', 'URS', data=result)\n",
    "plt.legend()\n",
    "plt.ylabel('defender cost')\n",
    "plt.xlabel('alpha')\n"
   ]
  },
  {
   "cell_type": "code",
   "execution_count": 43,
   "metadata": {
    "scrolled": false
   },
   "outputs": [
    {
     "data": {
      "text/plain": [
       "Text(0.5, 0, 'alpha')"
      ]
     },
     "execution_count": 43,
     "metadata": {},
     "output_type": "execute_result"
    },
    {
     "data": {
      "image/png": "[encoded data removed]",
      "text/plain": [
       "<Figure size 432x288 with 1 Axes>"
      ]
     },
     "metadata": {
      "needs_background": "light"
     },
     "output_type": "display_data"
    }
   ],
   "source": [
    "plt.plot('alpha', 'BSG', data=result)\n",
    "plt.plot('alpha', 'MSG', data=result)\n",
    "plt.legend()\n",
    "plt.ylabel('defender cost')\n",
    "plt.xlabel('alpha')\n"
   ]
  }
 ],
 "metadata": {
  "kernelspec": {
   "display_name": "Python 3",
   "language": "python",
   "name": "python3"
  },
  "language_info": {
   "codemirror_mode": {
    "name": "ipython",
    "version": 3
   },
   "file_extension": ".py",
   "mimetype": "text/x-python",
   "name": "python",
   "nbconvert_exporter": "python",
   "pygments_lexer": "ipython3",
   "version": "3.7.3"
  }
 },
 "nbformat": 4,
 "nbformat_minor": 4
}
