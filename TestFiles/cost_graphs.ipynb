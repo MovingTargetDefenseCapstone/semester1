{
 "cells": [
  {
   "cell_type": "code",
   "execution_count": 1,
   "metadata": {},
   "outputs": [],
   "source": [
    "import pandas as pd\n",
    "import numpy as np\n",
    "import matplotlib.pyplot as plt\n"
   ]
  },
  {
   "cell_type": "code",
   "execution_count": 2,
   "metadata": {},
   "outputs": [],
   "source": [
    "#read data from file\n",
    "MSG_data = pd.read_csv('MSG.txt', sep=\"\\n\", header=None)\n",
    "URS_data = pd.read_csv('URG_costs.txt', sep=\"\\n\", header=None)\n",
    "BSG_data = pd.read_csv('BSG_costs.txt', sep=\"\\n\", header=None)\n",
    "\n",
    "# name columns\n",
    "MSG_data.columns = [\"MSG\"]\n",
    "URS_data.columns = [\"URS\"]\n",
    "BSG_data.columns = [\"BSG\"]\n",
    "\n",
    "# generate alpha variable\n",
    "alpha = []\n",
    "for i in range(0, MSG_data.size):\n",
    "    alpha.append(i * 10)\n",
    "\n",
    "\n",
    "result = pd.concat([MSG_data, URS_data, BSG_data], axis=1, join='inner')\n",
    "result['alpha'] = pd.DataFrame(alpha)"
   ]
  },
  {
   "cell_type": "code",
   "execution_count": 3,
   "metadata": {},
   "outputs": [
    {
     "data": {
      "text/html": [
       "<div>\n",
       "<style scoped>\n",
       "    .dataframe tbody tr th:only-of-type {\n",
       "        vertical-align: middle;\n",
       "    }\n",
       "\n",
       "    .dataframe tbody tr th {\n",
       "        vertical-align: top;\n",
       "    }\n",
       "\n",
       "    .dataframe thead th {\n",
       "        text-align: right;\n",
       "    }\n",
       "</style>\n",
       "<table border=\"1\" class=\"dataframe\">\n",
       "  <thead>\n",
       "    <tr style=\"text-align: right;\">\n",
       "      <th></th>\n",
       "      <th>MSG</th>\n",
       "      <th>URS</th>\n",
       "      <th>BSG</th>\n",
       "      <th>alpha</th>\n",
       "    </tr>\n",
       "  </thead>\n",
       "  <tbody>\n",
       "    <tr>\n",
       "      <th>0</th>\n",
       "      <td>0.472987</td>\n",
       "      <td>0.569717</td>\n",
       "      <td>0.514005</td>\n",
       "      <td>0</td>\n",
       "    </tr>\n",
       "    <tr>\n",
       "      <th>1</th>\n",
       "      <td>0.778868</td>\n",
       "      <td>2.187657</td>\n",
       "      <td>0.727005</td>\n",
       "      <td>10</td>\n",
       "    </tr>\n",
       "    <tr>\n",
       "      <th>2</th>\n",
       "      <td>0.983937</td>\n",
       "      <td>3.052387</td>\n",
       "      <td>0.940005</td>\n",
       "      <td>20</td>\n",
       "    </tr>\n",
       "    <tr>\n",
       "      <th>3</th>\n",
       "      <td>1.194978</td>\n",
       "      <td>3.658750</td>\n",
       "      <td>1.153005</td>\n",
       "      <td>30</td>\n",
       "    </tr>\n",
       "    <tr>\n",
       "      <th>4</th>\n",
       "      <td>1.368447</td>\n",
       "      <td>4.179781</td>\n",
       "      <td>1.366005</td>\n",
       "      <td>40</td>\n",
       "    </tr>\n",
       "    <tr>\n",
       "      <th>5</th>\n",
       "      <td>1.538010</td>\n",
       "      <td>4.623632</td>\n",
       "      <td>1.579005</td>\n",
       "      <td>50</td>\n",
       "    </tr>\n",
       "    <tr>\n",
       "      <th>6</th>\n",
       "      <td>1.680093</td>\n",
       "      <td>4.970986</td>\n",
       "      <td>1.753395</td>\n",
       "      <td>60</td>\n",
       "    </tr>\n",
       "    <tr>\n",
       "      <th>7</th>\n",
       "      <td>1.811157</td>\n",
       "      <td>5.318340</td>\n",
       "      <td>1.859895</td>\n",
       "      <td>70</td>\n",
       "    </tr>\n",
       "    <tr>\n",
       "      <th>8</th>\n",
       "      <td>1.933585</td>\n",
       "      <td>5.665694</td>\n",
       "      <td>1.966395</td>\n",
       "      <td>80</td>\n",
       "    </tr>\n",
       "    <tr>\n",
       "      <th>9</th>\n",
       "      <td>2.051926</td>\n",
       "      <td>6.013048</td>\n",
       "      <td>2.072895</td>\n",
       "      <td>90</td>\n",
       "    </tr>\n",
       "  </tbody>\n",
       "</table>\n",
       "</div>"
      ],
      "text/plain": [
       "        MSG       URS       BSG  alpha\n",
       "0  0.472987  0.569717  0.514005      0\n",
       "1  0.778868  2.187657  0.727005     10\n",
       "2  0.983937  3.052387  0.940005     20\n",
       "3  1.194978  3.658750  1.153005     30\n",
       "4  1.368447  4.179781  1.366005     40\n",
       "5  1.538010  4.623632  1.579005     50\n",
       "6  1.680093  4.970986  1.753395     60\n",
       "7  1.811157  5.318340  1.859895     70\n",
       "8  1.933585  5.665694  1.966395     80\n",
       "9  2.051926  6.013048  2.072895     90"
      ]
     },
     "execution_count": 3,
     "metadata": {},
     "output_type": "execute_result"
    }
   ],
   "source": [
    "result"
   ]
  },
  {
   "cell_type": "code",
   "execution_count": 4,
   "metadata": {},
   "outputs": [
    {
     "data": {
      "text/plain": [
       "Text(0.5, 0, 'alpha')"
      ]
     },
     "execution_count": 4,
     "metadata": {},
     "output_type": "execute_result"
    },
    {
     "data": {
      "image/png": "[encoded data removed]",
      "text/plain": [
       "<Figure size 432x288 with 1 Axes>"
      ]
     },
     "metadata": {
      "needs_background": "light"
     },
     "output_type": "display_data"
    }
   ],
   "source": [
    "plt.plot('alpha', 'BSG', data=result)\n",
    "plt.plot('alpha', 'MSG', data=result)\n",
    "plt.plot('alpha', 'URS', data=result)\n",
    "plt.legend()\n",
    "plt.ylabel('defender cost')\n",
    "plt.xlabel('alpha')\n"
   ]
  },
  {
   "cell_type": "code",
   "execution_count": 5,
   "metadata": {
    "scrolled": false
   },
   "outputs": [
    {
     "data": {
      "text/plain": [
       "Text(0.5, 0, 'alpha')"
      ]
     },
     "execution_count": 5,
     "metadata": {},
     "output_type": "execute_result"
    },
    {
     "data": {
      "image/png": "[encoded data removed]",
      "text/plain": [
       "<Figure size 432x288 with 1 Axes>"
      ]
     },
     "metadata": {
      "needs_background": "light"
     },
     "output_type": "display_data"
    }
   ],
   "source": [
    "plt.plot('alpha', 'BSG', data=result)\n",
    "plt.plot('alpha', 'MSG', data=result)\n",
    "plt.legend()\n",
    "plt.ylabel('defender cost')\n",
    "plt.xlabel('alpha')\n"
   ]
  },
  {
   "cell_type": "code",
   "execution_count": null,
   "metadata": {},
   "outputs": [],
   "source": []
  },
  {
   "cell_type": "code",
   "execution_count": null,
   "metadata": {},
   "outputs": [],
   "source": []
  },
  {
   "cell_type": "code",
   "execution_count": null,
   "metadata": {},
   "outputs": [],
   "source": []
  }
 ],
 "metadata": {
  "kernelspec": {
   "display_name": "Python 3",
   "language": "python",
   "name": "python3"
  },
  "language_info": {
   "codemirror_mode": {
    "name": "ipython",
    "version": 3
   },
   "file_extension": ".py",
   "mimetype": "text/x-python",
   "name": "python",
   "nbconvert_exporter": "python",
   "pygments_lexer": "ipython3",
   "version": "3.7.3"
  }
 },
 "nbformat": 4,
 "nbformat_minor": 4
}
